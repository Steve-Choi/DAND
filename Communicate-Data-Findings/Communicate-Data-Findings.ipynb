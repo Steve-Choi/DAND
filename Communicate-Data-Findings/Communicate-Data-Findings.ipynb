{
 "cells": [
  {
   "cell_type": "markdown",
   "metadata": {},
   "source": [
    "# PISA2012 DATA ANALYSIS\n",
    "## by Steve\n",
    "\n",
    "## Preliminary Wrangling\n",
    "\n",
    "> ."
   ]
  },
  {
   "cell_type": "code",
   "execution_count": 5,
   "metadata": {},
   "outputs": [],
   "source": [
    "# import all packages and set plots to be embedded inline\n",
    "import numpy as np\n",
    "import pandas as pd\n",
    "import matplotlib.pyplot as plt\n",
    "import seaborn as sns\n",
    "\n",
    "%matplotlib inline"
   ]
  },
  {
   "cell_type": "code",
   "execution_count": 30,
   "metadata": {},
   "outputs": [
    {
     "data": {
      "text/html": [
       "<div>\n",
       "<style scoped>\n",
       "    .dataframe tbody tr th:only-of-type {\n",
       "        vertical-align: middle;\n",
       "    }\n",
       "\n",
       "    .dataframe tbody tr th {\n",
       "        vertical-align: top;\n",
       "    }\n",
       "\n",
       "    .dataframe thead th {\n",
       "        text-align: right;\n",
       "    }\n",
       "</style>\n",
       "<table border=\"1\" class=\"dataframe\">\n",
       "  <thead>\n",
       "    <tr style=\"text-align: right;\">\n",
       "      <th></th>\n",
       "      <th>CNT</th>\n",
       "      <th>SUBNATIO</th>\n",
       "      <th>STRATUM</th>\n",
       "      <th>OECD</th>\n",
       "      <th>NC</th>\n",
       "      <th>SCHOOLID</th>\n",
       "      <th>STIDSTD</th>\n",
       "      <th>ST01Q01</th>\n",
       "      <th>ST02Q01</th>\n",
       "      <th>ST03Q01</th>\n",
       "      <th>...</th>\n",
       "      <th>W_FSTR75</th>\n",
       "      <th>W_FSTR76</th>\n",
       "      <th>W_FSTR77</th>\n",
       "      <th>W_FSTR78</th>\n",
       "      <th>W_FSTR79</th>\n",
       "      <th>W_FSTR80</th>\n",
       "      <th>WVARSTRR</th>\n",
       "      <th>VAR_UNIT</th>\n",
       "      <th>SENWGT_STU</th>\n",
       "      <th>VER_STU</th>\n",
       "    </tr>\n",
       "  </thead>\n",
       "  <tbody>\n",
       "    <tr>\n",
       "      <th>1</th>\n",
       "      <td>Albania</td>\n",
       "      <td>80000</td>\n",
       "      <td>ALB0006</td>\n",
       "      <td>Non-OECD</td>\n",
       "      <td>Albania</td>\n",
       "      <td>1</td>\n",
       "      <td>1</td>\n",
       "      <td>10</td>\n",
       "      <td>1.0</td>\n",
       "      <td>2</td>\n",
       "      <td>...</td>\n",
       "      <td>13.7954</td>\n",
       "      <td>13.9235</td>\n",
       "      <td>13.1249</td>\n",
       "      <td>13.1249</td>\n",
       "      <td>4.3389</td>\n",
       "      <td>13.0829</td>\n",
       "      <td>19</td>\n",
       "      <td>1</td>\n",
       "      <td>0.2098</td>\n",
       "      <td>22NOV13</td>\n",
       "    </tr>\n",
       "    <tr>\n",
       "      <th>2</th>\n",
       "      <td>Albania</td>\n",
       "      <td>80000</td>\n",
       "      <td>ALB0006</td>\n",
       "      <td>Non-OECD</td>\n",
       "      <td>Albania</td>\n",
       "      <td>1</td>\n",
       "      <td>2</td>\n",
       "      <td>10</td>\n",
       "      <td>1.0</td>\n",
       "      <td>2</td>\n",
       "      <td>...</td>\n",
       "      <td>13.7954</td>\n",
       "      <td>13.9235</td>\n",
       "      <td>13.1249</td>\n",
       "      <td>13.1249</td>\n",
       "      <td>4.3389</td>\n",
       "      <td>13.0829</td>\n",
       "      <td>19</td>\n",
       "      <td>1</td>\n",
       "      <td>0.2098</td>\n",
       "      <td>22NOV13</td>\n",
       "    </tr>\n",
       "    <tr>\n",
       "      <th>3</th>\n",
       "      <td>Albania</td>\n",
       "      <td>80000</td>\n",
       "      <td>ALB0006</td>\n",
       "      <td>Non-OECD</td>\n",
       "      <td>Albania</td>\n",
       "      <td>1</td>\n",
       "      <td>3</td>\n",
       "      <td>9</td>\n",
       "      <td>1.0</td>\n",
       "      <td>9</td>\n",
       "      <td>...</td>\n",
       "      <td>12.7307</td>\n",
       "      <td>12.7307</td>\n",
       "      <td>12.7307</td>\n",
       "      <td>12.7307</td>\n",
       "      <td>4.2436</td>\n",
       "      <td>12.7307</td>\n",
       "      <td>19</td>\n",
       "      <td>1</td>\n",
       "      <td>0.1999</td>\n",
       "      <td>22NOV13</td>\n",
       "    </tr>\n",
       "    <tr>\n",
       "      <th>4</th>\n",
       "      <td>Albania</td>\n",
       "      <td>80000</td>\n",
       "      <td>ALB0006</td>\n",
       "      <td>Non-OECD</td>\n",
       "      <td>Albania</td>\n",
       "      <td>1</td>\n",
       "      <td>4</td>\n",
       "      <td>9</td>\n",
       "      <td>1.0</td>\n",
       "      <td>8</td>\n",
       "      <td>...</td>\n",
       "      <td>12.7307</td>\n",
       "      <td>12.7307</td>\n",
       "      <td>12.7307</td>\n",
       "      <td>12.7307</td>\n",
       "      <td>4.2436</td>\n",
       "      <td>12.7307</td>\n",
       "      <td>19</td>\n",
       "      <td>1</td>\n",
       "      <td>0.1999</td>\n",
       "      <td>22NOV13</td>\n",
       "    </tr>\n",
       "    <tr>\n",
       "      <th>5</th>\n",
       "      <td>Albania</td>\n",
       "      <td>80000</td>\n",
       "      <td>ALB0006</td>\n",
       "      <td>Non-OECD</td>\n",
       "      <td>Albania</td>\n",
       "      <td>1</td>\n",
       "      <td>5</td>\n",
       "      <td>9</td>\n",
       "      <td>1.0</td>\n",
       "      <td>10</td>\n",
       "      <td>...</td>\n",
       "      <td>12.7307</td>\n",
       "      <td>12.7307</td>\n",
       "      <td>12.7307</td>\n",
       "      <td>12.7307</td>\n",
       "      <td>4.2436</td>\n",
       "      <td>12.7307</td>\n",
       "      <td>19</td>\n",
       "      <td>1</td>\n",
       "      <td>0.1999</td>\n",
       "      <td>22NOV13</td>\n",
       "    </tr>\n",
       "  </tbody>\n",
       "</table>\n",
       "<p>5 rows × 635 columns</p>\n",
       "</div>"
      ],
      "text/plain": [
       "       CNT  SUBNATIO  STRATUM      OECD       NC  SCHOOLID  STIDSTD  ST01Q01  \\\n",
       "1  Albania     80000  ALB0006  Non-OECD  Albania         1        1       10   \n",
       "2  Albania     80000  ALB0006  Non-OECD  Albania         1        2       10   \n",
       "3  Albania     80000  ALB0006  Non-OECD  Albania         1        3        9   \n",
       "4  Albania     80000  ALB0006  Non-OECD  Albania         1        4        9   \n",
       "5  Albania     80000  ALB0006  Non-OECD  Albania         1        5        9   \n",
       "\n",
       "   ST02Q01  ST03Q01  ...  W_FSTR75 W_FSTR76 W_FSTR77  W_FSTR78 W_FSTR79  \\\n",
       "1      1.0        2  ...   13.7954  13.9235  13.1249   13.1249   4.3389   \n",
       "2      1.0        2  ...   13.7954  13.9235  13.1249   13.1249   4.3389   \n",
       "3      1.0        9  ...   12.7307  12.7307  12.7307   12.7307   4.2436   \n",
       "4      1.0        8  ...   12.7307  12.7307  12.7307   12.7307   4.2436   \n",
       "5      1.0       10  ...   12.7307  12.7307  12.7307   12.7307   4.2436   \n",
       "\n",
       "  W_FSTR80 WVARSTRR VAR_UNIT SENWGT_STU  VER_STU  \n",
       "1  13.0829       19        1     0.2098  22NOV13  \n",
       "2  13.0829       19        1     0.2098  22NOV13  \n",
       "3  12.7307       19        1     0.1999  22NOV13  \n",
       "4  12.7307       19        1     0.1999  22NOV13  \n",
       "5  12.7307       19        1     0.1999  22NOV13  \n",
       "\n",
       "[5 rows x 635 columns]"
      ]
     },
     "execution_count": 30,
     "metadata": {},
     "output_type": "execute_result"
    }
   ],
   "source": [
    "# read PISA data in chunks\n",
    "lst = []\n",
    "\n",
    "for chunk in pd.read_csv('data/pisa2012.csv', encoding='ISO-8859-1', index_col=0, low_memory=False, chunksize=50000):\n",
    "    lst.append(chunk)\n",
    "    \n",
    "df = pd.concat(lst, axis=0)\n",
    "\n",
    "# clearing memory occupied by lst\n",
    "del lst\n",
    "\n",
    "# check\n",
    "df.head()"
   ]
  },
  {
   "cell_type": "code",
   "execution_count": 32,
   "metadata": {},
   "outputs": [
    {
     "data": {
      "text/plain": [
       "(485490, 635)"
      ]
     },
     "execution_count": 32,
     "metadata": {},
     "output_type": "execute_result"
    }
   ],
   "source": [
    "df.shape"
   ]
  },
  {
   "cell_type": "code",
   "execution_count": 35,
   "metadata": {},
   "outputs": [
    {
     "data": {
      "text/html": [
       "<div>\n",
       "<style scoped>\n",
       "    .dataframe tbody tr th:only-of-type {\n",
       "        vertical-align: middle;\n",
       "    }\n",
       "\n",
       "    .dataframe tbody tr th {\n",
       "        vertical-align: top;\n",
       "    }\n",
       "\n",
       "    .dataframe thead th {\n",
       "        text-align: right;\n",
       "    }\n",
       "</style>\n",
       "<table border=\"1\" class=\"dataframe\">\n",
       "  <thead>\n",
       "    <tr style=\"text-align: right;\">\n",
       "      <th></th>\n",
       "      <th>Unnamed: 0</th>\n",
       "      <th>x</th>\n",
       "    </tr>\n",
       "  </thead>\n",
       "  <tbody>\n",
       "    <tr>\n",
       "      <th>0</th>\n",
       "      <td>CNT</td>\n",
       "      <td>Country code 3-character</td>\n",
       "    </tr>\n",
       "    <tr>\n",
       "      <th>1</th>\n",
       "      <td>SUBNATIO</td>\n",
       "      <td>Adjudicated sub-region code 7-digit code (3-di...</td>\n",
       "    </tr>\n",
       "    <tr>\n",
       "      <th>2</th>\n",
       "      <td>STRATUM</td>\n",
       "      <td>Stratum ID 7-character (cnt + region ID + orig...</td>\n",
       "    </tr>\n",
       "    <tr>\n",
       "      <th>3</th>\n",
       "      <td>OECD</td>\n",
       "      <td>OECD country</td>\n",
       "    </tr>\n",
       "    <tr>\n",
       "      <th>4</th>\n",
       "      <td>NC</td>\n",
       "      <td>National Centre 6-digit Code</td>\n",
       "    </tr>\n",
       "  </tbody>\n",
       "</table>\n",
       "</div>"
      ],
      "text/plain": [
       "  Unnamed: 0                                                  x\n",
       "0        CNT                           Country code 3-character\n",
       "1   SUBNATIO  Adjudicated sub-region code 7-digit code (3-di...\n",
       "2    STRATUM  Stratum ID 7-character (cnt + region ID + orig...\n",
       "3       OECD                                       OECD country\n",
       "4         NC                       National Centre 6-digit Code"
      ]
     },
     "execution_count": 35,
     "metadata": {},
     "output_type": "execute_result"
    }
   ],
   "source": [
    "df_colname = pd.read_csv('data/pisadict2012.csv', encoding='ISO-8859-1')\n",
    "df_colname.head()"
   ]
  },
  {
   "cell_type": "code",
   "execution_count": 3,
   "metadata": {},
   "outputs": [
    {
     "data": {
      "text/plain": [
       "\"\\ninstall.packages('ggplot2')\\nlibrary(ggplot2)\\n\\ndf = read.csv(file.choose()) #select your dataset \\ndf2 = head(df, 30)\\n\\n\\nqplot(df2$Math.SAT, df2$Verbal.SAT, xlab = 'Math SAT Score', \\n      ylab = 'Verbal SAT Score', main = 'Average SAT Scores By College')\\n\\nqplot(df2$Math.SAT, df2$Verbal.SAT, xlab = 'Math SAT Score', \\n      ylab = 'Verbal SAT Score', main = 'Average SAT Scores By College', \\n      color = as.factor(df2$Public..1...Private..2.))\\n\\nqplot(df2$Math.SAT, df2$Verbal.SAT, xlab = 'Math SAT Score',\\n      ylab = 'Verbal SAT Score', main = 'Average SAT Scores By College',\\n      shape = as.factor(df2$Public..1...Private..2.), color = df2$stud..fac..ratio)\\n\\nggplot(df2, aes(x=Math.SAT, y=Verbal.SAT, group=stud..fac..ratio)) +\\n  geom_point(aes(shape=stud..fac..ratio, color=as.factor(df2$Public..1...Private..2.))\\n\""
      ]
     },
     "execution_count": 3,
     "metadata": {},
     "output_type": "execute_result"
    }
   ],
   "source": [
    "# ggplot2 example\n",
    "'''\n",
    "install.packages('ggplot2')\n",
    "library(ggplot2)\n",
    "\n",
    "df = read.csv(file.choose()) #select your dataset \n",
    "df2 = head(df, 30)\n",
    "\n",
    "\n",
    "qplot(df2$Math.SAT, df2$Verbal.SAT, xlab = 'Math SAT Score', \n",
    "      ylab = 'Verbal SAT Score', main = 'Average SAT Scores By College')\n",
    "\n",
    "qplot(df2$Math.SAT, df2$Verbal.SAT, xlab = 'Math SAT Score', \n",
    "      ylab = 'Verbal SAT Score', main = 'Average SAT Scores By College', \n",
    "      color = as.factor(df2$Public..1...Private..2.))\n",
    "\n",
    "qplot(df2$Math.SAT, df2$Verbal.SAT, xlab = 'Math SAT Score',\n",
    "      ylab = 'Verbal SAT Score', main = 'Average SAT Scores By College',\n",
    "      shape = as.factor(df2$Public..1...Private..2.), color = df2$stud..fac..ratio)\n",
    "\n",
    "ggplot(df2, aes(x=Math.SAT, y=Verbal.SAT, group=stud..fac..ratio)) +\n",
    "  geom_point(aes(shape=stud..fac..ratio, color=as.factor(df2$Public..1...Private..2.))\n",
    "'''"
   ]
  },
  {
   "cell_type": "markdown",
   "metadata": {},
   "source": [
    "### Things to Consider\n",
    "1. Color-blind friendly: Use blue-orange palette over red-green\n",
    "2. Features for additional infor: different encodings\n",
    " - color & shape for categorical variables\n",
    " - marker size for quantitative variables"
   ]
  },
  {
   "cell_type": "markdown",
   "metadata": {},
   "source": [
    "### Sample Questions\n",
    "- How does the choice of school play into academic performance?\n",
    "- Are there differences in achievement based on gender, location, or student attitudes?\n",
    "- Are there differences in achievement based on teacher practices and attitudes?\n",
    "- Does there exist inequality in academic achievement?"
   ]
  },
  {
   "cell_type": "markdown",
   "metadata": {},
   "source": [
    "### Reference"
   ]
  },
  {
   "cell_type": "markdown",
   "metadata": {},
   "source": [
    "1. PISA Contest: http://mi2.mini.pw.edu.pl:8080/SmarterPoland/PISAcontest/\n",
    "2. PISA Survey Design: http://www.oecd.org/pisa/data/pisa2012technicalreport.htm"
   ]
  },
  {
   "cell_type": "code",
   "execution_count": null,
   "metadata": {},
   "outputs": [],
   "source": []
  }
 ],
 "metadata": {
  "kernelspec": {
   "display_name": "Python 3",
   "language": "python",
   "name": "python3"
  },
  "language_info": {
   "codemirror_mode": {
    "name": "ipython",
    "version": 3
   },
   "file_extension": ".py",
   "mimetype": "text/x-python",
   "name": "python",
   "nbconvert_exporter": "python",
   "pygments_lexer": "ipython3",
   "version": "3.6.8"
  }
 },
 "nbformat": 4,
 "nbformat_minor": 2
}
